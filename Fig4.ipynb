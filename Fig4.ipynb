{
 "cells": [
  {
   "cell_type": "code",
   "execution_count": null,
   "id": "e57f8480",
   "metadata": {},
   "outputs": [],
   "source": [
    "import numpy as np\n",
    "import pandas as pd\n",
    "import matplotlib.pyplot as plt\n",
    "from scipy import stats\n",
    "import seaborn as sns\n",
    "from sklearn import preprocessing\n",
    "from sklearn.metrics import r2_score\n",
    "pal = {'Acute':'orangered','ICU':'crimson','Severe':'orange','Moderate':'lightcoral',\n",
    "       'Health':'khaki','Convalescent':'royalblue'}"
   ]
  },
  {
   "cell_type": "code",
   "execution_count": null,
   "id": "33e5ede5",
   "metadata": {},
   "outputs": [],
   "source": [
    "# igg_TRB_index_corr\n",
    "infile = 'conv_igg.csv'\n",
    "indf = pd.read_csv(infile)\n",
    "indf = indf.dropna(subset=['igg'])\n",
    "print(indf.shape)\n",
    "indf.head()"
   ]
  },
  {
   "cell_type": "code",
   "execution_count": null,
   "id": "d426e8d2",
   "metadata": {},
   "outputs": [],
   "source": [
    "# igg_immune.index\n",
    "for feature in ['diversity','clonality','richness']:\n",
    "    rcpt = 'TRB'\n",
    "    col = rcpt+'_'+feature\n",
    "    s_corr = stats.spearmanr(indf[col],indf['igg'])\n",
    "    p_corr = stats.pearsonr(indf[col],indf['igg'])\n",
    "    print('pearson: {}\\nspearman: {}'.format(p_corr,s_corr))\n",
    "    \n",
    "    plt.figure(figsize=(5,5))\n",
    "    para = np.polyfit(indf[col],indf['igg'],1)\n",
    "    f = np.poly1d(para)\n",
    "    r2 = r2_score(indf['igg'],f(indf[col]))\n",
    "    x = [indf[col].min(),indf[col].max()]\n",
    "    plt.plot(x,f(x),'m-',linewidth=1,alpha=0.8)\n",
    "    sns.scatterplot(x=col,y='igg',data=indf,\n",
    "                   alpha=0.9, edgecolor='k', color='mediumseagreen')\n",
    "    plt.ylabel('Relative anti-S IgG level', fontsize=18)\n",
    "    plt.xlabel('T cell '+feature, fontsize=16)\n",
    "#     plt.xlabel(gene, fontsize=16)\n",
    "    ax = plt.axes()\n",
    "    plt.text(0.1,1.15,'Spearman Corr = {}, p = {}'.format(str('%.3g'%s_corr[0]),str('%.3g'%s_corr[1])),transform=ax.transAxes)\n",
    "    plt.text(0.1,1.1,'Pearson Corr = {}, p = {}'.format(str('%.3g'%p_corr[0]),str('%.3g'%p_corr[1])),transform=ax.transAxes)\n",
    "    plt.text(0.1,1.05,'y = '+str('%.3e'%para[0])+'*x + '+str('%.3f'%para[1])+' (R2 = '+str('%.3g'%r2)+')',transform=ax.transAxes)\n",
    "    ax.spines['top'].set_visible(False)\n",
    "    ax.spines['right'].set_visible(False)\n",
    "    outfig = 'corr.igg_'+col+'.png'\n",
    "    plt.savefig(outfig, dpi=500, bbox_inches='tight')\n",
    "    plt.show()"
   ]
  },
  {
   "cell_type": "code",
   "execution_count": null,
   "id": "8114a722",
   "metadata": {},
   "outputs": [],
   "source": []
  },
  {
   "cell_type": "code",
   "execution_count": null,
   "id": "3c2e9a82",
   "metadata": {},
   "outputs": [],
   "source": [
    "# IR_immune_index_corr\n",
    "infile = 'conv_igg.csv'\n",
    "indf = pd.read_csv(infile)\n",
    "indf = indf.dropna(subset=['IR'])\n",
    "print(indf.shape)\n",
    "indf.head()"
   ]
  },
  {
   "cell_type": "code",
   "execution_count": null,
   "id": "bbb07cbf",
   "metadata": {},
   "outputs": [],
   "source": [
    "# IR_immune.index/deg\n",
    "for feature in ['diversity','clonality','richness']:\n",
    "    rcpt = 'TRB'\n",
    "    col = rcpt+'_'+feature\n",
    "    s_corr = stats.spearmanr(indf[col],indf['IR'])\n",
    "    p_corr = stats.pearsonr(indf[col],indf['IR'])\n",
    "    print('pearson: {}\\nspearman: {}'.format(p_corr,s_corr))\n",
    "    \n",
    "    plt.figure(figsize=(5,5))\n",
    "    para = np.polyfit(indf[col],indf['IR'],1)\n",
    "    f = np.poly1d(para)\n",
    "    r2 = r2_score(indf['IR'],f(indf[col]))\n",
    "    x = [indf[col].min(),indf[col].max()]\n",
    "    plt.plot(x,f(x),'m-',linewidth=1,alpha=0.8)\n",
    "    sns.scatterplot(x=col,y='IR',data=indf,\n",
    "                   alpha=0.9, edgecolor='k', color='navy')\n",
    "    plt.ylabel('Inhibition rate', fontsize=18)\n",
    "    plt.xlabel('T cell '+feature, fontsize=16)\n",
    "#     plt.xlabel(gene, fontsize=16)\n",
    "    ax = plt.axes()\n",
    "    plt.text(0.1,1.15,'Spearman Corr = {}, p = {}'.format(str('%.3g'%s_corr[0]),str('%.3g'%s_corr[1])),transform=ax.transAxes)\n",
    "    plt.text(0.1,1.1,'Pearson Corr = {}, p = {}'.format(str('%.3g'%p_corr[0]),str('%.3g'%p_corr[1])),transform=ax.transAxes)\n",
    "    plt.text(0.1,1.05,'y = '+str('%.3e'%para[0])+'*x + '+str('%.3f'%para[1])+' (R2 = '+str('%.3g'%r2)+')',transform=ax.transAxes)\n",
    "    ax.spines['top'].set_visible(False)\n",
    "    ax.spines['right'].set_visible(False)\n",
    "    outfig = 'corr.IR_'+col+'.png'\n",
    "    plt.savefig(outfig, dpi=500, bbox_inches='tight')\n",
    "    plt.show()"
   ]
  },
  {
   "cell_type": "code",
   "execution_count": null,
   "id": "4f823d4a",
   "metadata": {},
   "outputs": [],
   "source": []
  },
  {
   "cell_type": "code",
   "execution_count": null,
   "id": "4384f2e1",
   "metadata": {},
   "outputs": [],
   "source": [
    "infile = 'conv_igg.csv'\n",
    "indf = pd.read_csv(infile)\n",
    "indf = indf.dropna(subset=['IR','igg'])\n",
    "print(indf.shape)\n",
    "indf.head()"
   ]
  },
  {
   "cell_type": "code",
   "execution_count": null,
   "id": "283e2cfe",
   "metadata": {},
   "outputs": [],
   "source": [
    "# IR_igg, IR_TRB_clonality\n",
    "ycol = 'IR'\n",
    "xcol = 'igg'\n",
    "ylabel = 'Inhibition rate(%)'\n",
    "xlabel = 'Relative anti-S IgG level'\n",
    "s_corr = stats.spearmanr(indf[xcol],indf[ycol])\n",
    "p_corr = stats.pearsonr(indf[xcol],indf[ycol])\n",
    "print('pearson: {}\\nspearman: {}'.format(p_corr,s_corr))\n",
    "\n",
    "plt.figure(figsize=(5,5))\n",
    "para = np.polyfit(indf[xcol],indf[ycol],1)\n",
    "f = np.poly1d(para)\n",
    "r2 = r2_score(indf[ycol],f(indf[xcol]))\n",
    "x = [indf[xcol].min(),indf[xcol].max()]\n",
    "plt.plot(x,f(x),'k-',linewidth=1,alpha=0.8)\n",
    "sns.scatterplot(x=xcol,y=ycol,data=indf,\n",
    "               alpha=0.9, edgecolor='k', color='navy')\n",
    "plt.ylabel(ylabel, fontsize=18)\n",
    "plt.xlabel(xlabel, fontsize=16)\n",
    "ax = plt.axes()\n",
    "plt.text(0.1,1.15,'Spearman Corr = {}, p = {}'.format(str('%.3g'%s_corr[0]),str('%.3g'%s_corr[1])),transform=ax.transAxes)\n",
    "plt.text(0.1,1.1,'Pearson Corr = {}, p = {}'.format(str('%.3g'%p_corr[0]),str('%.3g'%p_corr[1])),transform=ax.transAxes)\n",
    "plt.text(0.1,1.05,'y = '+str('%.3e'%para[0])+'*x + '+str('%.3f'%para[1])+' (R2 = '+str('%.3g'%r2)+')',transform=ax.transAxes)\n",
    "ax.spines['top'].set_visible(False)\n",
    "ax.spines['right'].set_visible(False)\n",
    "outfig = 'corr.'+ycol+'_'+xcol+'.png'\n",
    "plt.savefig(outfig, dpi=500, bbox_inches='tight')\n",
    "plt.show()"
   ]
  },
  {
   "cell_type": "code",
   "execution_count": null,
   "id": "9a224007",
   "metadata": {},
   "outputs": [],
   "source": []
  },
  {
   "cell_type": "code",
   "execution_count": null,
   "id": "8e061608",
   "metadata": {},
   "outputs": [],
   "source": []
  }
 ],
 "metadata": {
  "kernelspec": {
   "display_name": "Python [conda env:machine_learning]",
   "language": "python",
   "name": "conda-env-machine_learning-py"
  },
  "language_info": {
   "codemirror_mode": {
    "name": "ipython",
    "version": 3
   },
   "file_extension": ".py",
   "mimetype": "text/x-python",
   "name": "python",
   "nbconvert_exporter": "python",
   "pygments_lexer": "ipython3",
   "version": "3.8.6"
  }
 },
 "nbformat": 4,
 "nbformat_minor": 5
}
